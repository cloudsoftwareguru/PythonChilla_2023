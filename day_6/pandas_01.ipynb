{
 "cells": [
  {
   "cell_type": "code",
   "execution_count": null,
   "metadata": {},
   "outputs": [],
   "source": [
    "#pandas read excel worksheet?\n",
    "import pandas as pd\n",
    "\n",
    "excel_data_df = pd.read_excel('pandas_01_day6.xlsx')#, sheet_name='Form Responses 1')"
   ]
  },
  {
   "cell_type": "code",
   "execution_count": 21,
   "metadata": {},
   "outputs": [
    {
     "name": "stdout",
     "output_type": "stream",
     "text": [
      "  Height Weight Favourite Dish\n",
      "0    5.8    101  Chicken Pulao\n",
      "1    6.2     92        Biryani\n",
      "2    5.9     62  Karahi Ghosht\n",
      "3    5.9     95  Chicken Pulao\n",
      "4    5.9     55  Chicken Pulao\n"
     ]
    }
   ],
   "source": [
    "import pandas as pd\n",
    "\n",
    "df = pd.read_excel('pandas_01_day6.xlsx', sheet_name='Form Responses 1')\n",
    "print (df.head(5))"
   ]
  }
 ],
 "metadata": {
  "kernelspec": {
   "display_name": "Python 3.11.0 64-bit",
   "language": "python",
   "name": "python3"
  },
  "language_info": {
   "codemirror_mode": {
    "name": "ipython",
    "version": 3
   },
   "file_extension": ".py",
   "mimetype": "text/x-python",
   "name": "python",
   "nbconvert_exporter": "python",
   "pygments_lexer": "ipython3",
   "version": "3.11.0 (main, Oct 24 2022, 18:26:48) [MSC v.1933 64 bit (AMD64)]"
  },
  "orig_nbformat": 4,
  "vscode": {
   "interpreter": {
    "hash": "d5fcce3b1905e24fadfba2863a33998fdae49804aab53f4b42b1d81f82bc68b4"
   }
  }
 },
 "nbformat": 4,
 "nbformat_minor": 2
}
